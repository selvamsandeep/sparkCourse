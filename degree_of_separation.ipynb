{
 "cells": [
  {
   "cell_type": "code",
   "execution_count": 1,
   "metadata": {
    "collapsed": true
   },
   "outputs": [],
   "source": [
    "def convertToBFS(line):\n",
    "    fields = line.split()\n",
    "    heroID = int(fields[0])\n",
    "    connections = []\n",
    "    for connection in fields[1:]:\n",
    "        connections.append(int(connection))\n",
    "    \n",
    "    color =\"WHITE\"\n",
    "    distance = 9999\n",
    "    \n",
    "    if (heroID == startCharacterID):\n",
    "        color = \"GRAY\"\n",
    "        distance = 0\n",
    "    \n",
    "    return(heroID, (connections, distance, color))"
   ]
  },
  {
   "cell_type": "code",
   "execution_count": 2,
   "metadata": {
    "collapsed": true
   },
   "outputs": [],
   "source": [
    "def createStartingRDD():\n",
    "    inputFile = sc.textFile('Marvel-Graph.txt')\n",
    "    return inputFile.map(convertToBFS)"
   ]
  },
  {
   "cell_type": "code",
   "execution_count": 3,
   "metadata": {},
   "outputs": [],
   "source": [
    "def bfsMap(node):\n",
    "    characterID = node[0]\n",
    "    data = node[1]\n",
    "    connections = data[0]\n",
    "    distance = data[1]\n",
    "    color = data[2]\n",
    "    \n",
    "    results = []\n",
    "    \n",
    "    #if this node expanded \n",
    "    if(color == 'GRAY'):\n",
    "        for connection in connections:\n",
    "            newCharacterID = connection            \n",
    "            newDistance = distance + 1\n",
    "            newColor = 'GRAY'\n",
    "            if (targetCharacterID == connection):\n",
    "                hitCounter.add(1)\n",
    "                \n",
    "            newEntry = (newCharacterID, ([], newDistance, newColor))\n",
    "            results.append(newEntry)\n",
    "            \n",
    "        #we have processed node so color it BLACK\n",
    "        color = 'BLACK'\n",
    "            \n",
    "    #Emint the input node to keep track of it\n",
    "    results.append((characterID,(connections, distance, color)))\n",
    "    return results   \n",
    "    "
   ]
  },
  {
   "cell_type": "code",
   "execution_count": 4,
   "metadata": {
    "collapsed": true
   },
   "outputs": [],
   "source": [
    "def bfsReduce(data1, data2):\n",
    "    edges1 = data1[0]\n",
    "    edges2 = data2[0]\n",
    "    distance1 = data1[1]\n",
    "    distance2 = data2[1]\n",
    "    color1 = data1[2]\n",
    "    color2 = data2[2]\n",
    "    \n",
    "    distance = 9999\n",
    "    color =  color1\n",
    "    edges = []\n",
    "    \n",
    "    # see if one is original node with connections\n",
    "    # preserve them\n",
    "    if (len(edges1) > 0):\n",
    "        edges.extend(edges1)\n",
    "    if (len(edges2) > 0):\n",
    "        edges.extend(edges2)\n",
    "        \n",
    "    # maintain minimum distacne\n",
    "    if (distance1 < distance):\n",
    "        distance = distance1\n",
    "        \n",
    "    if (distance2 < distance):\n",
    "        distance = distance2\n",
    "    \n",
    "    #preserve the darkest color\n",
    "    if (color1 == 'WHITE' and (color2 == 'GRAY' or color2 == 'BLACK')):\n",
    "        color = color2\n",
    "     \n",
    "    if (color1 == 'GRAY' and  color2 == 'BLACK'):\n",
    "        color = color2\n",
    "        \n",
    "    if (color2 == 'WHITE' and (color1 == 'GRAY' or color1 == 'BLACK')):\n",
    "        color = color1\n",
    "     \n",
    "    if (color2 == 'GRAY' and  color1 == 'BLACK'):\n",
    "        color = color1\n",
    "    \n",
    "    return (edges, distance, color)    "
   ]
  },
  {
   "cell_type": "code",
   "execution_count": 6,
   "metadata": {},
   "outputs": [
    {
     "name": "stdout",
     "output_type": "stream",
     "text": [
      "Running BFS ireations# 1\n",
      "Processing  8330 values\n",
      "Running BFS ireations# 2\n",
      "Processing  220615 values\n",
      "Hit the target character! From 1 different direction(s).\n"
     ]
    }
   ],
   "source": [
    "from pyspark import SparkConf, SparkContext\n",
    "conf = SparkConf().setMaster('local').setAppName('DegreesOfSeperations')\n",
    "sc = SparkContext(conf = conf)\n",
    "\n",
    "startCharacterID = 5306 #spiderman\n",
    "targetCharacterID = 14 #ADAM\n",
    "hitCounter = sc.accumulator(0)\n",
    "\n",
    "iterationRdd = createStartingRDD()\n",
    "\n",
    "for iteration in range(0, 15):\n",
    "    print('Running BFS ireations# {}'.format(iteration+1))\n",
    "    \n",
    "    # Create new vertices as needed to darken or reduce distances in the\n",
    "    # reduce stage. If we encounter the node we're looking for as a GRAY\n",
    "    # node, increment our accumulator to signal that we're done.\n",
    "    mapped = iterationRdd.flatMap(bfsMap)\n",
    "    \n",
    "    # Note that mapped.count() action here forces the RDD to be evaluated, and\n",
    "    # that's the only reason our accumulator is actually updated.\n",
    "    print('Processing  {} values'.format(mapped.count()))\n",
    "    \n",
    "    if (hitCounter.value > 0):\n",
    "        print(\"Hit the target character! From {} different direction(s).\"\\\n",
    "             .format(hitCounter.value))\n",
    "        break        \n",
    "        \n",
    "    # Reducer combines data for each character ID, preserving the darkest\n",
    "    # color and shortest path. \n",
    "    iterationRdd = mapped.reduceByKey(bfsReduce)\n",
    "sc.stop()"
   ]
  },
  {
   "cell_type": "code",
   "execution_count": 10,
   "metadata": {
    "collapsed": true
   },
   "outputs": [],
   "source": [
    "\n"
   ]
  },
  {
   "cell_type": "code",
   "execution_count": 8,
   "metadata": {
    "collapsed": true
   },
   "outputs": [],
   "source": []
  },
  {
   "cell_type": "code",
   "execution_count": null,
   "metadata": {
    "collapsed": true
   },
   "outputs": [],
   "source": []
  }
 ],
 "metadata": {
  "kernelspec": {
   "display_name": "Python 3",
   "language": "python",
   "name": "python3"
  },
  "language_info": {
   "codemirror_mode": {
    "name": "ipython",
    "version": 3
   },
   "file_extension": ".py",
   "mimetype": "text/x-python",
   "name": "python",
   "nbconvert_exporter": "python",
   "pygments_lexer": "ipython3",
   "version": "3.5.2"
  }
 },
 "nbformat": 4,
 "nbformat_minor": 2
}
