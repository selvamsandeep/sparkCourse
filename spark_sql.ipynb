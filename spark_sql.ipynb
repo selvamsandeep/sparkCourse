{
 "cells": [
  {
   "cell_type": "code",
   "execution_count": 1,
   "metadata": {},
   "outputs": [],
   "source": [
    "from pyspark.sql import SparkSession\n",
    "from pyspark.sql import Row\n",
    "import collections"
   ]
  },
  {
   "cell_type": "code",
   "execution_count": 2,
   "metadata": {},
   "outputs": [],
   "source": [
    "spark = SparkSession.builder.appName('SparkSQL').getOrCreate()"
   ]
  },
  {
   "cell_type": "code",
   "execution_count": 9,
   "metadata": {},
   "outputs": [],
   "source": [
    "def mapper(line):\n",
    "    fields = line.split(',')\n",
    "    return Row(ID = int(fields[0]), name = str(fields[1].encode('utf-8')),\n",
    "              age = int(fields[2]), numFriends = int(fields[3]))"
   ]
  },
  {
   "cell_type": "code",
   "execution_count": 10,
   "metadata": {},
   "outputs": [],
   "source": [
    "lines = spark.sparkContext.textFile('fakefriends.csv')\n",
    "people = lines.map(mapper)"
   ]
  },
  {
   "cell_type": "code",
   "execution_count": 12,
   "metadata": {},
   "outputs": [],
   "source": [
    "schemaPeople = spark.createDataFrame(people).cache()\n",
    "schemaPeople.createOrReplaceTempView('people')"
   ]
  },
  {
   "cell_type": "code",
   "execution_count": 14,
   "metadata": {},
   "outputs": [],
   "source": [
    "teenagers = spark.sql('SELECT * FROM people WHERE age >= 13 AND age <= 19')"
   ]
  },
  {
   "cell_type": "code",
   "execution_count": 15,
   "metadata": {},
   "outputs": [
    {
     "name": "stdout",
     "output_type": "stream",
     "text": [
      "Row(ID=21, age=19, name=\"b'Miles'\", numFriends=268)\n",
      "Row(ID=52, age=19, name=\"b'Beverly'\", numFriends=269)\n",
      "Row(ID=54, age=19, name=\"b'Brunt'\", numFriends=5)\n",
      "Row(ID=106, age=18, name=\"b'Beverly'\", numFriends=499)\n",
      "Row(ID=115, age=18, name=\"b'Dukat'\", numFriends=397)\n",
      "Row(ID=133, age=19, name=\"b'Quark'\", numFriends=265)\n",
      "Row(ID=136, age=19, name=\"b'Will'\", numFriends=335)\n",
      "Row(ID=225, age=19, name=\"b'Elim'\", numFriends=106)\n",
      "Row(ID=304, age=19, name=\"b'Will'\", numFriends=404)\n",
      "Row(ID=341, age=18, name=\"b'Data'\", numFriends=326)\n",
      "Row(ID=366, age=19, name=\"b'Keiko'\", numFriends=119)\n",
      "Row(ID=373, age=19, name=\"b'Quark'\", numFriends=272)\n",
      "Row(ID=377, age=18, name=\"b'Beverly'\", numFriends=418)\n",
      "Row(ID=404, age=18, name=\"b'Kasidy'\", numFriends=24)\n",
      "Row(ID=409, age=19, name=\"b'Nog'\", numFriends=267)\n",
      "Row(ID=439, age=18, name=\"b'Data'\", numFriends=417)\n",
      "Row(ID=444, age=18, name=\"b'Keiko'\", numFriends=472)\n",
      "Row(ID=492, age=19, name=\"b'Dukat'\", numFriends=36)\n",
      "Row(ID=494, age=18, name=\"b'Kasidy'\", numFriends=194)\n"
     ]
    }
   ],
   "source": [
    "for teen in teenagers.collect():\n",
    "    print(teen)"
   ]
  },
  {
   "cell_type": "code",
   "execution_count": 16,
   "metadata": {},
   "outputs": [
    {
     "name": "stdout",
     "output_type": "stream",
     "text": [
      "+---+-----+\n",
      "|age|count|\n",
      "+---+-----+\n",
      "| 18|    8|\n",
      "| 19|   11|\n",
      "| 20|    5|\n",
      "| 21|    8|\n",
      "| 22|    7|\n",
      "| 23|   10|\n",
      "| 24|    5|\n",
      "| 25|   11|\n",
      "| 26|   17|\n",
      "| 27|    8|\n",
      "| 28|   10|\n",
      "| 29|   12|\n",
      "| 30|   11|\n",
      "| 31|    8|\n",
      "| 32|   11|\n",
      "| 33|   12|\n",
      "| 34|    6|\n",
      "| 35|    8|\n",
      "| 36|   10|\n",
      "| 37|    9|\n",
      "+---+-----+\n",
      "only showing top 20 rows\n",
      "\n"
     ]
    }
   ],
   "source": [
    "schemaPeople.groupBy('age').count().orderBy('age').show()"
   ]
  },
  {
   "cell_type": "code",
   "execution_count": 17,
   "metadata": {},
   "outputs": [],
   "source": [
    "spark.stop()"
   ]
  },
  {
   "cell_type": "code",
   "execution_count": null,
   "metadata": {},
   "outputs": [],
   "source": []
  }
 ],
 "metadata": {
  "kernelspec": {
   "display_name": "Python 3",
   "language": "python",
   "name": "python3"
  },
  "language_info": {
   "codemirror_mode": {
    "name": "ipython",
    "version": 3
   },
   "file_extension": ".py",
   "mimetype": "text/x-python",
   "name": "python",
   "nbconvert_exporter": "python",
   "pygments_lexer": "ipython3",
   "version": "3.5.2"
  }
 },
 "nbformat": 4,
 "nbformat_minor": 2
}
